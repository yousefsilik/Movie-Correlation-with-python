{
 "cells": [
  {
   "cell_type": "markdown",
   "id": "2e426b00",
   "metadata": {},
   "source": [
    "# libraries\n"
   ]
  },
  {
   "cell_type": "code",
   "execution_count": 1,
   "id": "e0984062",
   "metadata": {},
   "outputs": [],
   "source": [
    "%matplotlib inline\n",
    "\n",
    "\n",
    "import pandas as pd\n",
    "import numpy as np\n",
    "import seaborn as sns\n",
    "\n",
    "import matplotlib.pyplot as plt\n",
    "#import matplotlib.mlab as mlab\n",
    "import matplotlib\n",
    "\n",
    "\n",
    "\n",
    "from matplotlib.pyplot import figure\n",
    "matplotlib.rcParams['figure.figsize'] = (12,8)\n"
   ]
  },
  {
   "cell_type": "markdown",
   "id": "7edef101",
   "metadata": {},
   "source": [
    "#  Data Frame\n"
   ]
  },
  {
   "cell_type": "code",
   "execution_count": 2,
   "id": "4f4b3747",
   "metadata": {
    "scrolled": true
   },
   "outputs": [
    {
     "data": {
      "text/html": [
       "<div>\n",
       "<style scoped>\n",
       "    .dataframe tbody tr th:only-of-type {\n",
       "        vertical-align: middle;\n",
       "    }\n",
       "\n",
       "    .dataframe tbody tr th {\n",
       "        vertical-align: top;\n",
       "    }\n",
       "\n",
       "    .dataframe thead th {\n",
       "        text-align: right;\n",
       "    }\n",
       "</style>\n",
       "<table border=\"1\" class=\"dataframe\">\n",
       "  <thead>\n",
       "    <tr style=\"text-align: right;\">\n",
       "      <th></th>\n",
       "      <th>name</th>\n",
       "      <th>rating</th>\n",
       "      <th>genre</th>\n",
       "      <th>year</th>\n",
       "      <th>released</th>\n",
       "      <th>score</th>\n",
       "      <th>votes</th>\n",
       "      <th>director</th>\n",
       "      <th>writer</th>\n",
       "      <th>star</th>\n",
       "      <th>country</th>\n",
       "      <th>budget</th>\n",
       "      <th>gross</th>\n",
       "      <th>company</th>\n",
       "      <th>runtime</th>\n",
       "    </tr>\n",
       "  </thead>\n",
       "  <tbody>\n",
       "    <tr>\n",
       "      <th>0</th>\n",
       "      <td>The Shining</td>\n",
       "      <td>R</td>\n",
       "      <td>Drama</td>\n",
       "      <td>1980</td>\n",
       "      <td>June 13, 1980 (United States)</td>\n",
       "      <td>8.4</td>\n",
       "      <td>927000.0</td>\n",
       "      <td>Stanley Kubrick</td>\n",
       "      <td>Stephen King</td>\n",
       "      <td>Jack Nicholson</td>\n",
       "      <td>United Kingdom</td>\n",
       "      <td>19000000.0</td>\n",
       "      <td>46998772.0</td>\n",
       "      <td>Warner Bros.</td>\n",
       "      <td>146.0</td>\n",
       "    </tr>\n",
       "    <tr>\n",
       "      <th>1</th>\n",
       "      <td>The Blue Lagoon</td>\n",
       "      <td>R</td>\n",
       "      <td>Adventure</td>\n",
       "      <td>1980</td>\n",
       "      <td>July 2, 1980 (United States)</td>\n",
       "      <td>5.8</td>\n",
       "      <td>65000.0</td>\n",
       "      <td>Randal Kleiser</td>\n",
       "      <td>Henry De Vere Stacpoole</td>\n",
       "      <td>Brooke Shields</td>\n",
       "      <td>United States</td>\n",
       "      <td>4500000.0</td>\n",
       "      <td>58853106.0</td>\n",
       "      <td>Columbia Pictures</td>\n",
       "      <td>104.0</td>\n",
       "    </tr>\n",
       "    <tr>\n",
       "      <th>2</th>\n",
       "      <td>Star Wars: Episode V - The Empire Strikes Back</td>\n",
       "      <td>PG</td>\n",
       "      <td>Action</td>\n",
       "      <td>1980</td>\n",
       "      <td>June 20, 1980 (United States)</td>\n",
       "      <td>8.7</td>\n",
       "      <td>1200000.0</td>\n",
       "      <td>Irvin Kershner</td>\n",
       "      <td>Leigh Brackett</td>\n",
       "      <td>Mark Hamill</td>\n",
       "      <td>United States</td>\n",
       "      <td>18000000.0</td>\n",
       "      <td>538375067.0</td>\n",
       "      <td>Lucasfilm</td>\n",
       "      <td>124.0</td>\n",
       "    </tr>\n",
       "    <tr>\n",
       "      <th>3</th>\n",
       "      <td>Airplane!</td>\n",
       "      <td>PG</td>\n",
       "      <td>Comedy</td>\n",
       "      <td>1980</td>\n",
       "      <td>July 2, 1980 (United States)</td>\n",
       "      <td>7.7</td>\n",
       "      <td>221000.0</td>\n",
       "      <td>Jim Abrahams</td>\n",
       "      <td>Jim Abrahams</td>\n",
       "      <td>Robert Hays</td>\n",
       "      <td>United States</td>\n",
       "      <td>3500000.0</td>\n",
       "      <td>83453539.0</td>\n",
       "      <td>Paramount Pictures</td>\n",
       "      <td>88.0</td>\n",
       "    </tr>\n",
       "    <tr>\n",
       "      <th>4</th>\n",
       "      <td>Caddyshack</td>\n",
       "      <td>R</td>\n",
       "      <td>Comedy</td>\n",
       "      <td>1980</td>\n",
       "      <td>July 25, 1980 (United States)</td>\n",
       "      <td>7.3</td>\n",
       "      <td>108000.0</td>\n",
       "      <td>Harold Ramis</td>\n",
       "      <td>Brian Doyle-Murray</td>\n",
       "      <td>Chevy Chase</td>\n",
       "      <td>United States</td>\n",
       "      <td>6000000.0</td>\n",
       "      <td>39846344.0</td>\n",
       "      <td>Orion Pictures</td>\n",
       "      <td>98.0</td>\n",
       "    </tr>\n",
       "    <tr>\n",
       "      <th>5</th>\n",
       "      <td>Friday the 13th</td>\n",
       "      <td>R</td>\n",
       "      <td>Horror</td>\n",
       "      <td>1980</td>\n",
       "      <td>May 9, 1980 (United States)</td>\n",
       "      <td>6.4</td>\n",
       "      <td>123000.0</td>\n",
       "      <td>Sean S. Cunningham</td>\n",
       "      <td>Victor Miller</td>\n",
       "      <td>Betsy Palmer</td>\n",
       "      <td>United States</td>\n",
       "      <td>550000.0</td>\n",
       "      <td>39754601.0</td>\n",
       "      <td>Paramount Pictures</td>\n",
       "      <td>95.0</td>\n",
       "    </tr>\n",
       "    <tr>\n",
       "      <th>6</th>\n",
       "      <td>The Blues Brothers</td>\n",
       "      <td>R</td>\n",
       "      <td>Action</td>\n",
       "      <td>1980</td>\n",
       "      <td>June 20, 1980 (United States)</td>\n",
       "      <td>7.9</td>\n",
       "      <td>188000.0</td>\n",
       "      <td>John Landis</td>\n",
       "      <td>Dan Aykroyd</td>\n",
       "      <td>John Belushi</td>\n",
       "      <td>United States</td>\n",
       "      <td>27000000.0</td>\n",
       "      <td>115229890.0</td>\n",
       "      <td>Universal Pictures</td>\n",
       "      <td>133.0</td>\n",
       "    </tr>\n",
       "    <tr>\n",
       "      <th>7</th>\n",
       "      <td>Raging Bull</td>\n",
       "      <td>R</td>\n",
       "      <td>Biography</td>\n",
       "      <td>1980</td>\n",
       "      <td>December 19, 1980 (United States)</td>\n",
       "      <td>8.2</td>\n",
       "      <td>330000.0</td>\n",
       "      <td>Martin Scorsese</td>\n",
       "      <td>Jake LaMotta</td>\n",
       "      <td>Robert De Niro</td>\n",
       "      <td>United States</td>\n",
       "      <td>18000000.0</td>\n",
       "      <td>23402427.0</td>\n",
       "      <td>Chartoff-Winkler Productions</td>\n",
       "      <td>129.0</td>\n",
       "    </tr>\n",
       "    <tr>\n",
       "      <th>8</th>\n",
       "      <td>Superman II</td>\n",
       "      <td>PG</td>\n",
       "      <td>Action</td>\n",
       "      <td>1980</td>\n",
       "      <td>June 19, 1981 (United States)</td>\n",
       "      <td>6.8</td>\n",
       "      <td>101000.0</td>\n",
       "      <td>Richard Lester</td>\n",
       "      <td>Jerry Siegel</td>\n",
       "      <td>Gene Hackman</td>\n",
       "      <td>United States</td>\n",
       "      <td>54000000.0</td>\n",
       "      <td>108185706.0</td>\n",
       "      <td>Dovemead Films</td>\n",
       "      <td>127.0</td>\n",
       "    </tr>\n",
       "    <tr>\n",
       "      <th>9</th>\n",
       "      <td>The Long Riders</td>\n",
       "      <td>R</td>\n",
       "      <td>Biography</td>\n",
       "      <td>1980</td>\n",
       "      <td>May 16, 1980 (United States)</td>\n",
       "      <td>7.0</td>\n",
       "      <td>10000.0</td>\n",
       "      <td>Walter Hill</td>\n",
       "      <td>Bill Bryden</td>\n",
       "      <td>David Carradine</td>\n",
       "      <td>United States</td>\n",
       "      <td>10000000.0</td>\n",
       "      <td>15795189.0</td>\n",
       "      <td>United Artists</td>\n",
       "      <td>100.0</td>\n",
       "    </tr>\n",
       "  </tbody>\n",
       "</table>\n",
       "</div>"
      ],
      "text/plain": [
       "                                             name rating      genre  year  \\\n",
       "0                                     The Shining      R      Drama  1980   \n",
       "1                                 The Blue Lagoon      R  Adventure  1980   \n",
       "2  Star Wars: Episode V - The Empire Strikes Back     PG     Action  1980   \n",
       "3                                       Airplane!     PG     Comedy  1980   \n",
       "4                                      Caddyshack      R     Comedy  1980   \n",
       "5                                 Friday the 13th      R     Horror  1980   \n",
       "6                              The Blues Brothers      R     Action  1980   \n",
       "7                                     Raging Bull      R  Biography  1980   \n",
       "8                                     Superman II     PG     Action  1980   \n",
       "9                                 The Long Riders      R  Biography  1980   \n",
       "\n",
       "                            released  score      votes            director  \\\n",
       "0      June 13, 1980 (United States)    8.4   927000.0     Stanley Kubrick   \n",
       "1       July 2, 1980 (United States)    5.8    65000.0      Randal Kleiser   \n",
       "2      June 20, 1980 (United States)    8.7  1200000.0      Irvin Kershner   \n",
       "3       July 2, 1980 (United States)    7.7   221000.0        Jim Abrahams   \n",
       "4      July 25, 1980 (United States)    7.3   108000.0        Harold Ramis   \n",
       "5        May 9, 1980 (United States)    6.4   123000.0  Sean S. Cunningham   \n",
       "6      June 20, 1980 (United States)    7.9   188000.0         John Landis   \n",
       "7  December 19, 1980 (United States)    8.2   330000.0     Martin Scorsese   \n",
       "8      June 19, 1981 (United States)    6.8   101000.0      Richard Lester   \n",
       "9       May 16, 1980 (United States)    7.0    10000.0         Walter Hill   \n",
       "\n",
       "                    writer             star         country      budget  \\\n",
       "0             Stephen King   Jack Nicholson  United Kingdom  19000000.0   \n",
       "1  Henry De Vere Stacpoole   Brooke Shields   United States   4500000.0   \n",
       "2           Leigh Brackett      Mark Hamill   United States  18000000.0   \n",
       "3             Jim Abrahams      Robert Hays   United States   3500000.0   \n",
       "4       Brian Doyle-Murray      Chevy Chase   United States   6000000.0   \n",
       "5            Victor Miller     Betsy Palmer   United States    550000.0   \n",
       "6              Dan Aykroyd     John Belushi   United States  27000000.0   \n",
       "7             Jake LaMotta   Robert De Niro   United States  18000000.0   \n",
       "8             Jerry Siegel     Gene Hackman   United States  54000000.0   \n",
       "9              Bill Bryden  David Carradine   United States  10000000.0   \n",
       "\n",
       "         gross                       company  runtime  \n",
       "0   46998772.0                  Warner Bros.    146.0  \n",
       "1   58853106.0             Columbia Pictures    104.0  \n",
       "2  538375067.0                     Lucasfilm    124.0  \n",
       "3   83453539.0            Paramount Pictures     88.0  \n",
       "4   39846344.0                Orion Pictures     98.0  \n",
       "5   39754601.0            Paramount Pictures     95.0  \n",
       "6  115229890.0            Universal Pictures    133.0  \n",
       "7   23402427.0  Chartoff-Winkler Productions    129.0  \n",
       "8  108185706.0                Dovemead Films    127.0  \n",
       "9   15795189.0                United Artists    100.0  "
      ]
     },
     "execution_count": 2,
     "metadata": {},
     "output_type": "execute_result"
    }
   ],
   "source": [
    "#read csv file\n",
    "df=pd.read_csv('movies.csv')\n",
    "df.head(10)"
   ]
  },
  {
   "cell_type": "markdown",
   "id": "fa5f71b4",
   "metadata": {},
   "source": [
    "# Data processing"
   ]
  },
  {
   "cell_type": "code",
   "execution_count": 3,
   "id": "a41c3dc2",
   "metadata": {},
   "outputs": [
    {
     "data": {
      "text/plain": [
       "(7668, 15)"
      ]
     },
     "execution_count": 3,
     "metadata": {},
     "output_type": "execute_result"
    }
   ],
   "source": [
    "df.shape\n"
   ]
  },
  {
   "cell_type": "code",
   "execution_count": 4,
   "id": "5150485a",
   "metadata": {},
   "outputs": [
    {
     "data": {
      "text/plain": [
       "name         object\n",
       "rating       object\n",
       "genre        object\n",
       "year          int64\n",
       "released     object\n",
       "score       float64\n",
       "votes       float64\n",
       "director     object\n",
       "writer       object\n",
       "star         object\n",
       "country      object\n",
       "budget      float64\n",
       "gross       float64\n",
       "company      object\n",
       "runtime     float64\n",
       "dtype: object"
      ]
     },
     "execution_count": 4,
     "metadata": {},
     "output_type": "execute_result"
    }
   ],
   "source": [
    "# Data Types for our columns\n",
    "df.dtypes"
   ]
  },
  {
   "cell_type": "code",
   "execution_count": 5,
   "id": "8cda299d",
   "metadata": {
    "scrolled": true
   },
   "outputs": [
    {
     "name": "stdout",
     "output_type": "stream",
     "text": [
      "name           0\n",
      "rating        77\n",
      "genre          0\n",
      "year           0\n",
      "released       2\n",
      "score          3\n",
      "votes          3\n",
      "director       0\n",
      "writer         3\n",
      "star           1\n",
      "country        3\n",
      "budget      2171\n",
      "gross        189\n",
      "company       17\n",
      "runtime        4\n",
      "dtype: int64\n"
     ]
    }
   ],
   "source": [
    "# We need to see if we have any missing data\n",
    "print(df.isna().sum())\n"
   ]
  },
  {
   "cell_type": "code",
   "execution_count": 6,
   "id": "e5f8e917",
   "metadata": {},
   "outputs": [],
   "source": [
    "#replace the nan value to 0\n",
    "import numpy as np\n",
    "\n",
    "df['budget'] = df['budget'].replace(np.nan, 0)\n",
    "df['votes'] = df['votes'].replace(np.nan, 0)\n",
    "df['gross'] = df['gross'].replace(np.nan, 0)"
   ]
  },
  {
   "cell_type": "code",
   "execution_count": 7,
   "id": "787e8a1b",
   "metadata": {},
   "outputs": [
    {
     "data": {
      "text/plain": [
       "0     46998772.0\n",
       "1     58853106.0\n",
       "2    538375067.0\n",
       "3     83453539.0\n",
       "4     39846344.0\n",
       "5     39754601.0\n",
       "6    115229890.0\n",
       "7     23402427.0\n",
       "8    108185706.0\n",
       "9     15795189.0\n",
       "Name: gross, dtype: float64"
      ]
     },
     "execution_count": 7,
     "metadata": {},
     "output_type": "execute_result"
    }
   ],
   "source": [
    "df[\"gross\"].head(10)"
   ]
  },
  {
   "cell_type": "code",
   "execution_count": 8,
   "id": "c386a564",
   "metadata": {},
   "outputs": [],
   "source": [
    "#change data type :\n",
    "df[\"budget\"]=df[\"budget\"].astype(int)\n",
    "df[\"votes\"]=df[\"votes\"].astype(int)\n",
    "df[\"gross\"]=df[\"gross\"].astype(int)"
   ]
  },
  {
   "cell_type": "code",
   "execution_count": 9,
   "id": "1a8304be",
   "metadata": {
    "scrolled": true
   },
   "outputs": [
    {
     "data": {
      "text/plain": [
       "0     46998772\n",
       "1     58853106\n",
       "2    538375067\n",
       "3     83453539\n",
       "4     39846344\n",
       "5     39754601\n",
       "6    115229890\n",
       "7     23402427\n",
       "8    108185706\n",
       "9     15795189\n",
       "Name: gross, dtype: string"
      ]
     },
     "execution_count": 9,
     "metadata": {},
     "output_type": "execute_result"
    }
   ],
   "source": [
    "#change sign in gross col\n",
    "df[\"gross\"]=df[\"gross\"].astype(\"string\")\n",
    "df[\"gross\"]=df[\"gross\"].str.replace('-',' ')\n",
    "df[\"gross\"].head(10)"
   ]
  },
  {
   "cell_type": "code",
   "execution_count": 10,
   "id": "3bc224c7",
   "metadata": {},
   "outputs": [],
   "source": [
    "df[\"gross\"]=df[\"gross\"].astype(\"int64\") \n"
   ]
  },
  {
   "cell_type": "code",
   "execution_count": 11,
   "id": "98bd10b6",
   "metadata": {
    "scrolled": true
   },
   "outputs": [],
   "source": [
    "##change data type :\n",
    "#df[\"released\"]=df[\"released\"].astype(\"string\")\n",
    "df=df.sort_values(\"gross\",ascending=False)\n"
   ]
  },
  {
   "cell_type": "code",
   "execution_count": 13,
   "id": "82c80fbe",
   "metadata": {},
   "outputs": [],
   "source": [
    "#split the col to creat new year\n",
    "df[\"the real year\"]=df[\"released\"].str.split(\",\",expand=True)[1]\n",
    "df[\"the real year\"]=df[\"the real year\"].str.split(\"(\",expand=True)[0]\n"
   ]
  },
  {
   "cell_type": "code",
   "execution_count": null,
   "id": "00334cf2",
   "metadata": {},
   "outputs": [],
   "source": []
  },
  {
   "cell_type": "code",
   "execution_count": 14,
   "id": "6af20cd8",
   "metadata": {},
   "outputs": [],
   "source": [
    "#order df col\n",
    "df=df.loc[:,[\"budget\",\"company\",\"country\",\"director\",\"genre\",\"gross\",\"name\",\"rating\",\"released\",\"runtime\",\"score\",\"star\",\"votes\",\"writer\",\"the real year\",\"year\"]]\n"
   ]
  },
  {
   "cell_type": "code",
   "execution_count": 15,
   "id": "7f37a831",
   "metadata": {
    "scrolled": false
   },
   "outputs": [],
   "source": [
    "# print all df\n",
    "pd.set_option(\"display.max_rows\",None)\n"
   ]
  },
  {
   "cell_type": "code",
   "execution_count": 16,
   "id": "1dca67ec",
   "metadata": {
    "scrolled": false
   },
   "outputs": [
    {
     "data": {
      "text/plain": [
       "Universal Pictures           377\n",
       "Warner Bros.                 334\n",
       "Columbia Pictures            332\n",
       "Paramount Pictures           320\n",
       "Twentieth Century Fox        240\n",
       "New Line Cinema              174\n",
       "Touchstone Pictures          132\n",
       "Metro-Goldwyn-Mayer (MGM)    125\n",
       "Walt Disney Pictures         123\n",
       "TriStar Pictures              94\n",
       "Name: company, dtype: int64"
      ]
     },
     "execution_count": 16,
     "metadata": {},
     "output_type": "execute_result"
    }
   ],
   "source": [
    "#value count for company \n",
    "df[\"company\"].value_counts().head(10)\n"
   ]
  },
  {
   "cell_type": "code",
   "execution_count": 17,
   "id": "0b469299",
   "metadata": {},
   "outputs": [
    {
     "data": {
      "text/plain": [
       "Comedy       2245\n",
       "Action       1705\n",
       "Drama        1518\n",
       "Crime         551\n",
       "Biography     443\n",
       "Adventure     427\n",
       "Animation     338\n",
       "Horror        322\n",
       "Fantasy        44\n",
       "Mystery        20\n",
       "Name: genre, dtype: int64"
      ]
     },
     "execution_count": 17,
     "metadata": {},
     "output_type": "execute_result"
    }
   ],
   "source": [
    "#value count for genre \n",
    "df[\"genre\"].value_counts().head(10)"
   ]
  },
  {
   "cell_type": "markdown",
   "id": "0aacd1d3",
   "metadata": {},
   "source": [
    "# Data analyzing\n",
    "\n"
   ]
  },
  {
   "cell_type": "code",
   "execution_count": 18,
   "id": "48d1e5cd",
   "metadata": {},
   "outputs": [
    {
     "data": {
      "image/png": "[encoded data removed]",
      "text/plain": [
       "<Figure size 360x360 with 1 Axes>"
      ]
     },
     "metadata": {
      "needs_background": "light"
     },
     "output_type": "display_data"
    }
   ],
   "source": [
    "sns.relplot(x=\"budget\",y=\"gross\",data=df)\n",
    "color=[\"#29395B\"]\n",
    "sns.set_palette(color)\n",
    "plt.title(\"budget vs gross\")\n",
    "plt.show()"
   ]
  },
  {
   "cell_type": "code",
   "execution_count": 19,
   "id": "5c580084",
   "metadata": {},
   "outputs": [
    {
     "data": {
      "image/png": "[encoded data removed]",
      "text/plain": [
       "<Figure size 864x576 with 1 Axes>"
      ]
     },
     "metadata": {
      "needs_background": "light"
     },
     "output_type": "display_data"
    }
   ],
   "source": [
    "#budget vs gross\n",
    "sns.regplot(x=\"budget\",y=\"gross\",data=df , scatter_kws={\"color\":\"#29395B\"},line_kws={\"color\":\"#CB737D\"})\n",
    "plt.title(\"budget vs gross\")\n",
    "plt.show() \n"
   ]
  },
  {
   "cell_type": "code",
   "execution_count": 20,
   "id": "fc384677",
   "metadata": {
    "scrolled": true
   },
   "outputs": [
    {
     "data": {
      "text/html": [
       "<div>\n",
       "<style scoped>\n",
       "    .dataframe tbody tr th:only-of-type {\n",
       "        vertical-align: middle;\n",
       "    }\n",
       "\n",
       "    .dataframe tbody tr th {\n",
       "        vertical-align: top;\n",
       "    }\n",
       "\n",
       "    .dataframe thead th {\n",
       "        text-align: right;\n",
       "    }\n",
       "</style>\n",
       "<table border=\"1\" class=\"dataframe\">\n",
       "  <thead>\n",
       "    <tr style=\"text-align: right;\">\n",
       "      <th></th>\n",
       "      <th>budget</th>\n",
       "      <th>gross</th>\n",
       "      <th>runtime</th>\n",
       "      <th>score</th>\n",
       "      <th>votes</th>\n",
       "      <th>year</th>\n",
       "    </tr>\n",
       "  </thead>\n",
       "  <tbody>\n",
       "    <tr>\n",
       "      <th>budget</th>\n",
       "      <td>1.000000</td>\n",
       "      <td>0.754893</td>\n",
       "      <td>0.269510</td>\n",
       "      <td>0.055665</td>\n",
       "      <td>0.486931</td>\n",
       "      <td>0.309212</td>\n",
       "    </tr>\n",
       "    <tr>\n",
       "      <th>gross</th>\n",
       "      <td>0.754893</td>\n",
       "      <td>1.000000</td>\n",
       "      <td>0.245376</td>\n",
       "      <td>0.187530</td>\n",
       "      <td>0.637045</td>\n",
       "      <td>0.264977</td>\n",
       "    </tr>\n",
       "    <tr>\n",
       "      <th>runtime</th>\n",
       "      <td>0.269510</td>\n",
       "      <td>0.245376</td>\n",
       "      <td>1.000000</td>\n",
       "      <td>0.399451</td>\n",
       "      <td>0.309122</td>\n",
       "      <td>0.120811</td>\n",
       "    </tr>\n",
       "    <tr>\n",
       "      <th>score</th>\n",
       "      <td>0.055665</td>\n",
       "      <td>0.187530</td>\n",
       "      <td>0.399451</td>\n",
       "      <td>1.000000</td>\n",
       "      <td>0.409182</td>\n",
       "      <td>0.097995</td>\n",
       "    </tr>\n",
       "    <tr>\n",
       "      <th>votes</th>\n",
       "      <td>0.486931</td>\n",
       "      <td>0.637045</td>\n",
       "      <td>0.309122</td>\n",
       "      <td>0.409182</td>\n",
       "      <td>1.000000</td>\n",
       "      <td>0.222427</td>\n",
       "    </tr>\n",
       "    <tr>\n",
       "      <th>year</th>\n",
       "      <td>0.309212</td>\n",
       "      <td>0.264977</td>\n",
       "      <td>0.120811</td>\n",
       "      <td>0.097995</td>\n",
       "      <td>0.222427</td>\n",
       "      <td>1.000000</td>\n",
       "    </tr>\n",
       "  </tbody>\n",
       "</table>\n",
       "</div>"
      ],
      "text/plain": [
       "           budget     gross   runtime     score     votes      year\n",
       "budget   1.000000  0.754893  0.269510  0.055665  0.486931  0.309212\n",
       "gross    0.754893  1.000000  0.245376  0.187530  0.637045  0.264977\n",
       "runtime  0.269510  0.245376  1.000000  0.399451  0.309122  0.120811\n",
       "score    0.055665  0.187530  0.399451  1.000000  0.409182  0.097995\n",
       "votes    0.486931  0.637045  0.309122  0.409182  1.000000  0.222427\n",
       "year     0.309212  0.264977  0.120811  0.097995  0.222427  1.000000"
      ]
     },
     "execution_count": 20,
     "metadata": {},
     "output_type": "execute_result"
    }
   ],
   "source": [
    "df.corr()"
   ]
  },
  {
   "cell_type": "code",
   "execution_count": 21,
   "id": "07108168",
   "metadata": {},
   "outputs": [
    {
     "data": {
      "image/png": "[encoded data removed]",
      "text/plain": [
       "<Figure size 864x576 with 2 Axes>"
      ]
     },
     "metadata": {
      "needs_background": "light"
     },
     "output_type": "display_data"
    }
   ],
   "source": [
    "correlation = df.corr()\n",
    "sns.heatmap(correlation, annot = True,cmap=\"RdBu_r\")\n",
    "plt.title(\"Correlation matrix for Numeric Features\")\n",
    "plt.show()"
   ]
  },
  {
   "cell_type": "code",
   "execution_count": 22,
   "id": "db98c779",
   "metadata": {},
   "outputs": [
    {
     "data": {
      "text/html": [
       "<div>\n",
       "<style scoped>\n",
       "    .dataframe tbody tr th:only-of-type {\n",
       "        vertical-align: middle;\n",
       "    }\n",
       "\n",
       "    .dataframe tbody tr th {\n",
       "        vertical-align: top;\n",
       "    }\n",
       "\n",
       "    .dataframe thead th {\n",
       "        text-align: right;\n",
       "    }\n",
       "</style>\n",
       "<table border=\"1\" class=\"dataframe\">\n",
       "  <thead>\n",
       "    <tr style=\"text-align: right;\">\n",
       "      <th></th>\n",
       "      <th>budget</th>\n",
       "      <th>company</th>\n",
       "      <th>country</th>\n",
       "      <th>director</th>\n",
       "      <th>genre</th>\n",
       "      <th>gross</th>\n",
       "      <th>name</th>\n",
       "      <th>rating</th>\n",
       "      <th>released</th>\n",
       "      <th>runtime</th>\n",
       "      <th>score</th>\n",
       "      <th>star</th>\n",
       "      <th>votes</th>\n",
       "      <th>writer</th>\n",
       "      <th>the real year</th>\n",
       "      <th>year</th>\n",
       "    </tr>\n",
       "  </thead>\n",
       "  <tbody>\n",
       "    <tr>\n",
       "      <th>3045</th>\n",
       "      <td>200000000</td>\n",
       "      <td>2253</td>\n",
       "      <td>55</td>\n",
       "      <td>1155</td>\n",
       "      <td>6</td>\n",
       "      <td>2147483648</td>\n",
       "      <td>6896</td>\n",
       "      <td>5</td>\n",
       "      <td>704</td>\n",
       "      <td>194.0</td>\n",
       "      <td>7.8</td>\n",
       "      <td>1595</td>\n",
       "      <td>1100000</td>\n",
       "      <td>1778</td>\n",
       "      <td>17</td>\n",
       "      <td>1997</td>\n",
       "    </tr>\n",
       "    <tr>\n",
       "      <th>7445</th>\n",
       "      <td>356000000</td>\n",
       "      <td>1606</td>\n",
       "      <td>55</td>\n",
       "      <td>162</td>\n",
       "      <td>0</td>\n",
       "      <td>2147483648</td>\n",
       "      <td>535</td>\n",
       "      <td>5</td>\n",
       "      <td>183</td>\n",
       "      <td>181.0</td>\n",
       "      <td>8.4</td>\n",
       "      <td>2241</td>\n",
       "      <td>903000</td>\n",
       "      <td>743</td>\n",
       "      <td>39</td>\n",
       "      <td>2019</td>\n",
       "    </tr>\n",
       "    <tr>\n",
       "      <th>5445</th>\n",
       "      <td>237000000</td>\n",
       "      <td>2253</td>\n",
       "      <td>55</td>\n",
       "      <td>1155</td>\n",
       "      <td>0</td>\n",
       "      <td>2147483648</td>\n",
       "      <td>533</td>\n",
       "      <td>5</td>\n",
       "      <td>696</td>\n",
       "      <td>162.0</td>\n",
       "      <td>7.8</td>\n",
       "      <td>2334</td>\n",
       "      <td>1100000</td>\n",
       "      <td>1778</td>\n",
       "      <td>29</td>\n",
       "      <td>2009</td>\n",
       "    </tr>\n",
       "    <tr>\n",
       "      <th>6663</th>\n",
       "      <td>245000000</td>\n",
       "      <td>1540</td>\n",
       "      <td>55</td>\n",
       "      <td>1125</td>\n",
       "      <td>0</td>\n",
       "      <td>2069521700</td>\n",
       "      <td>5144</td>\n",
       "      <td>5</td>\n",
       "      <td>698</td>\n",
       "      <td>138.0</td>\n",
       "      <td>7.8</td>\n",
       "      <td>524</td>\n",
       "      <td>876000</td>\n",
       "      <td>2550</td>\n",
       "      <td>35</td>\n",
       "      <td>2015</td>\n",
       "    </tr>\n",
       "    <tr>\n",
       "      <th>7244</th>\n",
       "      <td>321000000</td>\n",
       "      <td>1606</td>\n",
       "      <td>55</td>\n",
       "      <td>162</td>\n",
       "      <td>0</td>\n",
       "      <td>2048359754</td>\n",
       "      <td>536</td>\n",
       "      <td>5</td>\n",
       "      <td>192</td>\n",
       "      <td>149.0</td>\n",
       "      <td>8.4</td>\n",
       "      <td>2241</td>\n",
       "      <td>897000</td>\n",
       "      <td>743</td>\n",
       "      <td>38</td>\n",
       "      <td>2018</td>\n",
       "    </tr>\n",
       "    <tr>\n",
       "      <th>7480</th>\n",
       "      <td>260000000</td>\n",
       "      <td>2316</td>\n",
       "      <td>55</td>\n",
       "      <td>1455</td>\n",
       "      <td>2</td>\n",
       "      <td>1670727580</td>\n",
       "      <td>6194</td>\n",
       "      <td>4</td>\n",
       "      <td>1488</td>\n",
       "      <td>118.0</td>\n",
       "      <td>6.9</td>\n",
       "      <td>676</td>\n",
       "      <td>222000</td>\n",
       "      <td>1919</td>\n",
       "      <td>39</td>\n",
       "      <td>2019</td>\n",
       "    </tr>\n",
       "    <tr>\n",
       "      <th>6653</th>\n",
       "      <td>150000000</td>\n",
       "      <td>2281</td>\n",
       "      <td>55</td>\n",
       "      <td>517</td>\n",
       "      <td>0</td>\n",
       "      <td>1670516444</td>\n",
       "      <td>2969</td>\n",
       "      <td>5</td>\n",
       "      <td>1704</td>\n",
       "      <td>124.0</td>\n",
       "      <td>7.0</td>\n",
       "      <td>437</td>\n",
       "      <td>593000</td>\n",
       "      <td>3568</td>\n",
       "      <td>35</td>\n",
       "      <td>2015</td>\n",
       "    </tr>\n",
       "    <tr>\n",
       "      <th>6043</th>\n",
       "      <td>220000000</td>\n",
       "      <td>1606</td>\n",
       "      <td>55</td>\n",
       "      <td>1517</td>\n",
       "      <td>0</td>\n",
       "      <td>1518815515</td>\n",
       "      <td>5502</td>\n",
       "      <td>5</td>\n",
       "      <td>2472</td>\n",
       "      <td>143.0</td>\n",
       "      <td>8.0</td>\n",
       "      <td>2241</td>\n",
       "      <td>1300000</td>\n",
       "      <td>2314</td>\n",
       "      <td>32</td>\n",
       "      <td>2012</td>\n",
       "    </tr>\n",
       "    <tr>\n",
       "      <th>6646</th>\n",
       "      <td>190000000</td>\n",
       "      <td>2281</td>\n",
       "      <td>55</td>\n",
       "      <td>1189</td>\n",
       "      <td>0</td>\n",
       "      <td>1515341399</td>\n",
       "      <td>2145</td>\n",
       "      <td>5</td>\n",
       "      <td>221</td>\n",
       "      <td>137.0</td>\n",
       "      <td>7.1</td>\n",
       "      <td>2721</td>\n",
       "      <td>370000</td>\n",
       "      <td>706</td>\n",
       "      <td>35</td>\n",
       "      <td>2015</td>\n",
       "    </tr>\n",
       "    <tr>\n",
       "      <th>7494</th>\n",
       "      <td>150000000</td>\n",
       "      <td>2315</td>\n",
       "      <td>55</td>\n",
       "      <td>432</td>\n",
       "      <td>2</td>\n",
       "      <td>1450026933</td>\n",
       "      <td>2131</td>\n",
       "      <td>4</td>\n",
       "      <td>2676</td>\n",
       "      <td>103.0</td>\n",
       "      <td>6.8</td>\n",
       "      <td>1527</td>\n",
       "      <td>148000</td>\n",
       "      <td>1950</td>\n",
       "      <td>39</td>\n",
       "      <td>2019</td>\n",
       "    </tr>\n",
       "  </tbody>\n",
       "</table>\n",
       "</div>"
      ],
      "text/plain": [
       "         budget  company  country  director  genre       gross  name  rating  \\\n",
       "3045  200000000     2253       55      1155      6  2147483648  6896       5   \n",
       "7445  356000000     1606       55       162      0  2147483648   535       5   \n",
       "5445  237000000     2253       55      1155      0  2147483648   533       5   \n",
       "6663  245000000     1540       55      1125      0  2069521700  5144       5   \n",
       "7244  321000000     1606       55       162      0  2048359754   536       5   \n",
       "7480  260000000     2316       55      1455      2  1670727580  6194       4   \n",
       "6653  150000000     2281       55       517      0  1670516444  2969       5   \n",
       "6043  220000000     1606       55      1517      0  1518815515  5502       5   \n",
       "6646  190000000     2281       55      1189      0  1515341399  2145       5   \n",
       "7494  150000000     2315       55       432      2  1450026933  2131       4   \n",
       "\n",
       "      released  runtime  score  star    votes  writer  the real year  year  \n",
       "3045       704    194.0    7.8  1595  1100000    1778             17  1997  \n",
       "7445       183    181.0    8.4  2241   903000     743             39  2019  \n",
       "5445       696    162.0    7.8  2334  1100000    1778             29  2009  \n",
       "6663       698    138.0    7.8   524   876000    2550             35  2015  \n",
       "7244       192    149.0    8.4  2241   897000     743             38  2018  \n",
       "7480      1488    118.0    6.9   676   222000    1919             39  2019  \n",
       "6653      1704    124.0    7.0   437   593000    3568             35  2015  \n",
       "6043      2472    143.0    8.0  2241  1300000    2314             32  2012  \n",
       "6646       221    137.0    7.1  2721   370000     706             35  2015  \n",
       "7494      2676    103.0    6.8  1527   148000    1950             39  2019  "
      ]
     },
     "execution_count": 22,
     "metadata": {},
     "output_type": "execute_result"
    }
   ],
   "source": [
    "df_numerized = df\n",
    "for col_name in df_numerized.columns :\n",
    "   if ( df_numerized [col_name] .dtype=='object') :\n",
    "    df_numerized[col_name]=df_numerized[col_name].astype(\"category\")\n",
    "    df_numerized[col_name]=df_numerized[col_name].cat.codes\n",
    "df_numerized.head(10)        "
   ]
  },
  {
   "cell_type": "code",
   "execution_count": 23,
   "id": "810494d8",
   "metadata": {},
   "outputs": [],
   "source": [
    "#df_numerized.corr()\n"
   ]
  },
  {
   "cell_type": "code",
   "execution_count": 24,
   "id": "a18b1586",
   "metadata": {},
   "outputs": [
    {
     "data": {
      "text/plain": [
       "budget  budget      1.000000\n",
       "        company     0.186474\n",
       "        country     0.131720\n",
       "        director    0.004976\n",
       "        genre      -0.334021\n",
       "        gross       0.754893\n",
       "        name        0.020548\n",
       "        rating     -0.081939\n",
       "        released    0.009145\n",
       "        runtime     0.269510\n",
       "dtype: float64"
      ]
     },
     "execution_count": 24,
     "metadata": {},
     "output_type": "execute_result"
    }
   ],
   "source": [
    "corr_df=df_numerized.corr()\n",
    "correlation_2=corr_df.unstack()\n",
    "correlation_2.head(10)"
   ]
  },
  {
   "cell_type": "code",
   "execution_count": 25,
   "id": "ff260b23",
   "metadata": {},
   "outputs": [
    {
     "data": {
      "text/plain": [
       "genre    budget    -0.334021\n",
       "budget   genre     -0.334021\n",
       "genre    gross     -0.236812\n",
       "gross    genre     -0.236812\n",
       "votes    genre     -0.145296\n",
       "genre    votes     -0.145296\n",
       "country  score     -0.133348\n",
       "score    country   -0.133348\n",
       "gross    rating    -0.096924\n",
       "rating   gross     -0.096924\n",
       "dtype: float64"
      ]
     },
     "execution_count": 25,
     "metadata": {},
     "output_type": "execute_result"
    }
   ],
   "source": [
    "sort=correlation_2.sort_values()\n",
    "sort.head(10)"
   ]
  },
  {
   "cell_type": "code",
   "execution_count": 26,
   "id": "a171a710",
   "metadata": {},
   "outputs": [
    {
     "data": {
      "text/plain": [
       "gross          votes            0.637045\n",
       "votes          gross            0.637045\n",
       "gross          budget           0.754893\n",
       "budget         gross            0.754893\n",
       "year           the real year    0.992136\n",
       "the real year  year             0.992136\n",
       "budget         budget           1.000000\n",
       "writer         writer           1.000000\n",
       "votes          votes            1.000000\n",
       "star           star             1.000000\n",
       "dtype: float64"
      ]
     },
     "execution_count": 26,
     "metadata": {},
     "output_type": "execute_result"
    }
   ],
   "source": [
    "sort[(sort)>0.5].head(10)"
   ]
  },
  {
   "cell_type": "code",
   "execution_count": 27,
   "id": "f000ac71",
   "metadata": {},
   "outputs": [
    {
     "data": {
      "text/plain": [
       "3045    17\n",
       "7445    39\n",
       "5445    29\n",
       "6663    35\n",
       "7244    38\n",
       "7480    39\n",
       "6653    35\n",
       "6043    32\n",
       "6646    35\n",
       "7494    39\n",
       "Name: the real year, dtype: int32"
      ]
     },
     "execution_count": 27,
     "metadata": {},
     "output_type": "execute_result"
    }
   ],
   "source": [
    "\n",
    "df[\"the real year\"] = df[\"the real year\"].replace(np.nan, 0)\n",
    "df[\"the real year\"]=df[\"the real year\"].astype(int)\n",
    "df[\"the real year\"].head(10)\n"
   ]
  },
  {
   "cell_type": "code",
   "execution_count": 28,
   "id": "c0482e18",
   "metadata": {
    "scrolled": false
   },
   "outputs": [
    {
     "data": {
      "image/png": "[encoded data removed]",
      "text/plain": [
       "<Figure size 360x360 with 1 Axes>"
      ]
     },
     "metadata": {
      "needs_background": "light"
     },
     "output_type": "display_data"
    }
   ],
   "source": [
    "sns.relplot(x=\"year\",y=\"budget\",data=df,kind=\"line\")\n",
    "plt.xticks(rotation=90)\n",
    "plt.show()"
   ]
  },
  {
   "cell_type": "markdown",
   "id": "f0d911e8",
   "metadata": {},
   "source": []
  }
 ],
 "metadata": {
  "kernelspec": {
   "display_name": "Python 3 (ipykernel)",
   "language": "python",
   "name": "python3"
  },
  "language_info": {
   "codemirror_mode": {
    "name": "ipython",
    "version": 3
   },
   "file_extension": ".py",
   "mimetype": "text/x-python",
   "name": "python",
   "nbconvert_exporter": "python",
   "pygments_lexer": "ipython3",
   "version": "3.10.5"
  }
 },
 "nbformat": 4,
 "nbformat_minor": 5
}
